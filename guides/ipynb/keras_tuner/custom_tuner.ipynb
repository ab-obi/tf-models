{
  "cells": [
    {
      "cell_type": "markdown",
      "metadata": {
        "id": "j4ozSVeEQ8cd"
      },
      "source": [
        "# Tune hyperparameters in your custom training loop\n",
        "\n",
        "**Authors:** Tom O'Malley, Haifeng Jin<br>\n",
        "**Date created:** 2019/10/28<br>\n",
        "**Last modified:** 2022/01/12<br>\n",
        "**Description:** Use `HyperModel.fit()` to tune training hyperparameters (such as batch size)."
      ]
    },
    {
      "cell_type": "markdown",
      "source": [],
      "metadata": {
        "id": "h-rDSaJ3Q_eM"
      }
    },
    {
      "cell_type": "code",
      "execution_count": 1,
      "metadata": {
        "id": "v98ROt_1Q8ce",
        "outputId": "6711becf-a940-4a49-cf2e-449cb1ed2c94",
        "colab": {
          "base_uri": "https://localhost:8080/"
        }
      },
      "outputs": [
        {
          "output_type": "stream",
          "name": "stdout",
          "text": [
            "\u001b[?25l   \u001b[90m━━━━━━━━━━━━━━━━━━━━━━━━━━━━━━━━━━━━━━━━\u001b[0m \u001b[32m0.0/129.1 kB\u001b[0m \u001b[31m?\u001b[0m eta \u001b[36m-:--:--\u001b[0m\r\u001b[2K   \u001b[91m━━━━━━━━━━━━━━━━━━━━━━━━━━━━━━━━━━━━━━\u001b[0m\u001b[90m╺\u001b[0m\u001b[90m━\u001b[0m \u001b[32m122.9/129.1 kB\u001b[0m \u001b[31m4.6 MB/s\u001b[0m eta \u001b[36m0:00:01\u001b[0m\r\u001b[2K   \u001b[90m━━━━━━━━━━━━━━━━━━━━━━━━━━━━━━━━━━━━━━━━\u001b[0m \u001b[32m129.1/129.1 kB\u001b[0m \u001b[31m3.3 MB/s\u001b[0m eta \u001b[36m0:00:00\u001b[0m\n",
            "\u001b[?25h"
          ]
        }
      ],
      "source": [
        "!pip install keras-tuner -q\n"
      ]
    },
    {
      "cell_type": "markdown",
      "metadata": {
        "id": "3D5dRi-4Q8cg"
      },
      "source": [
        "## Introduction\n",
        "\n",
        "The `HyperModel` class in KerasTuner provides a convenient way to define your\n",
        "search space in a reusable object. You can override `HyperModel.build()` to\n",
        "define and hypertune the model itself. To hypertune the training process (e.g.\n",
        "by selecting the proper batch size, number of training epochs, or data\n",
        "augmentation setup), you can override `HyperModel.fit()`, where you can access:\n",
        "\n",
        "- The `hp` object, which is an instance of `keras_tuner.HyperParameters`\n",
        "- The model built by `HyperModel.build()`\n",
        "\n",
        "A basic example is shown in the \"tune model training\" section of\n",
        "[Getting Started with KerasTuner](https://keras.io/guides/keras_tuner/getting_started/#tune-model-training).\n",
        "\n",
        "## Tuning the custom training loop\n",
        "\n",
        "In this guide, we will subclass the `HyperModel` class and write a custom\n",
        "training loop by overriding `HyperModel.fit()`. For how to write a custom\n",
        "training loop with Keras, you can refer to the guide\n",
        "[Writing a training loop from scratch](https://keras.io/guides/writing_a_training_loop_from_scratch/).\n",
        "\n",
        "First, we import the libraries we need, and we create datasets for training and\n",
        "validation. Here, we just use some random data for demonstration purposes."
      ]
    },
    {
      "cell_type": "code",
      "execution_count": 6,
      "metadata": {
        "id": "RbO358D_Q8ch"
      },
      "outputs": [],
      "source": [
        "import keras_tuner\n",
        "import tensorflow as tf\n",
        "import keras\n",
        "import numpy as np\n",
        "import time\n",
        "\n",
        "\n",
        "x_train = np.random.rand(1000, 28, 28, 1)\n",
        "y_train = np.random.randint(0, 10, (1000, 1))\n",
        "x_val = np.random.rand(1000, 28, 28, 1)\n",
        "y_val = np.random.randint(0, 10, (1000, 1))"
      ]
    },
    {
      "cell_type": "markdown",
      "metadata": {
        "id": "YOxphMfOQ8cj"
      },
      "source": [
        "Then, we subclass the `HyperModel` class as `MyHyperModel`. In\n",
        "`MyHyperModel.build()`, we build a simple Keras model to do image\n",
        "classification for 10 different classes. `MyHyperModel.fit()` accepts several\n",
        "arguments. Its signature is shown below:\n",
        "\n",
        "```python\n",
        "def fit(self, hp, model, x, y, validation_data, callbacks=None, **kwargs):\n",
        "```\n",
        "\n",
        "* The `hp` argument is for defining the hyperparameters.\n",
        "* The `model` argument is the model returned by `MyHyperModel.build()`.\n",
        "* `x`, `y`, and `validation_data` are all custom-defined arguments. We will\n",
        "pass our data to them by calling `tuner.search(x=x, y=y,\n",
        "validation_data=(x_val, y_val))` later. You can define any number of them and\n",
        "give custom names.\n",
        "* The `callbacks` argument was intended to be used with `model.fit()`.\n",
        "KerasTuner put some helpful Keras callbacks in it, for example, the callback\n",
        "for checkpointing the model at its best epoch.\n",
        "\n",
        "We will manually call the callbacks in the custom training loop. Before we\n",
        "can call them, we need to assign our model to them with the following code so\n",
        "that they have access to the model for checkpointing.\n",
        "\n",
        "```py\n",
        "for callback in callbacks:\n",
        "    callback.model = model\n",
        "```\n",
        "\n",
        "In this example, we only called the `on_epoch_end()` method of the callbacks\n",
        "to help us checkpoint the model. You may also call other callback methods\n",
        "if needed. If you don't need to save the model, you don't need to use the\n",
        "callbacks.\n",
        "\n",
        "In the custom training loop, we tune the batch size of the dataset as we wrap\n",
        "the NumPy data into a `tf.data.Dataset`. Note that you can tune any\n",
        "preprocessing steps here as well. We also tune the learning rate of the\n",
        "optimizer.\n",
        "\n",
        "We will use the validation loss as the evaluation metric for the model. To\n",
        "compute the mean validation loss, we will use `keras.metrics.Mean()`, which\n",
        "averages the validation loss across the batches. We need to return the\n",
        "validation loss for the tuner to make a record."
      ]
    },
    {
      "cell_type": "code",
      "execution_count": 21,
      "metadata": {
        "id": "-Wb6iGQXQ8cj"
      },
      "outputs": [],
      "source": [
        "\n",
        "class MyHyperModel(keras_tuner.HyperModel):\n",
        "    def build(self, hp):\n",
        "        \"\"\"Builds a convolutional model.\"\"\"\n",
        "        inputs = keras.Input(shape=(28, 28, 1))\n",
        "        x = keras.layers.Flatten()(inputs)\n",
        "        x = keras.layers.Dense(\n",
        "            units=hp.Choice(\"units\", [32, 64, 128]), activation=\"relu\"\n",
        "        )(x)\n",
        "        outputs = keras.layers.Dense(10)(x)\n",
        "        return keras.Model(inputs=inputs, outputs=outputs)\n",
        "\n",
        "    def fit(self, hp, model, x, y, validation_data, callbacks=None, **kwargs):\n",
        "        # Convert the datasets to tf.data.Dataset.\n",
        "        batch_size = hp.Int(\"batch_size\", 32, 128, step=32, default=64)\n",
        "        train_ds = tf.data.Dataset.from_tensor_slices((x_train, y_train)).batch(\n",
        "            batch_size\n",
        "        )\n",
        "        validation_data = tf.data.Dataset.from_tensor_slices(validation_data).batch(\n",
        "            batch_size\n",
        "        )\n",
        "\n",
        "        # Define the optimizer.\n",
        "        optimizer = keras.optimizers.Adam(\n",
        "            hp.Float(\"learning_rate\", 1e-4, 1e-2, sampling=\"log\", default=1e-3)\n",
        "        )\n",
        "        loss_fn = keras.losses.SparseCategoricalCrossentropy(from_logits=True)\n",
        "\n",
        "        # The metric to track validation loss.\n",
        "        epoch_loss_metric = keras.metrics.Mean()\n",
        "\n",
        "        # Function to run the train step.\n",
        "        @tf.function\n",
        "        def run_train_step(images, labels):\n",
        "            with tf.GradientTape() as tape:\n",
        "                logits = model(images)\n",
        "                loss = loss_fn(labels, logits)\n",
        "                # Add any regularization losses.\n",
        "                if model.losses:\n",
        "                    loss += tf.math.add_n(model.losses)\n",
        "            gradients = tape.gradient(loss, model.trainable_variables)\n",
        "            optimizer.apply_gradients(zip(gradients, model.trainable_variables))\n",
        "\n",
        "        # Function to run the validation step.\n",
        "        @tf.function\n",
        "        def run_val_step(images, labels):\n",
        "            logits = model(images)\n",
        "            loss = loss_fn(labels, logits)\n",
        "            # Update the metric.\n",
        "            epoch_loss_metric.update_state(loss)\n",
        "\n",
        "        # Assign the model to the callbacks.\n",
        "        for callback in callbacks:\n",
        "            callback.set_model(model)\n",
        "\n",
        "        # Record the best validation loss value\n",
        "        best_epoch_loss = float(\"inf\")\n",
        "\n",
        "        # The custom training loop.\n",
        "        for epoch in range(2):\n",
        "            print(f\"Epoch: {epoch}\")\n",
        "\n",
        "            # Iterate the training data to run the training step.\n",
        "            for images, labels in train_ds:\n",
        "                run_train_step(images, labels)\n",
        "\n",
        "            # Iterate the validation data to run the validation step.\n",
        "            for images, labels in validation_data:\n",
        "                run_val_step(images, labels)\n",
        "\n",
        "            # Calling the callbacks after epoch.\n",
        "            epoch_loss = float(epoch_loss_metric.result().numpy())\n",
        "            for callback in callbacks:\n",
        "                # The \"my_metric\" is the objective passed to the tuner.\n",
        "                callback.on_epoch_end(epoch, logs={\"my_metric\": epoch_loss})\n",
        "            epoch_loss_metric.reset_state()\n",
        "\n",
        "            print(f\"Epoch loss: {epoch_loss}\")\n",
        "            best_epoch_loss = min(best_epoch_loss, epoch_loss)\n",
        "\n",
        "        # Return the evaluation metric value.\n",
        "        return best_epoch_loss\n"
      ]
    },
    {
      "cell_type": "markdown",
      "metadata": {
        "id": "LbEQ2Hu4Q8ck"
      },
      "source": [
        "Now, we can initialize the tuner. Here, we use `Objective(\"my_metric\", \"min\")`\n",
        "as our metric to be minimized. The objective name should be consistent with the\n",
        "one you use as the key in the `logs` passed to the 'on_epoch_end()' method of\n",
        "the callbacks. The callbacks need to use this value in the `logs` to find the\n",
        "best epoch to checkpoint the model."
      ]
    },
    {
      "cell_type": "code",
      "execution_count": 22,
      "metadata": {
        "id": "unwP5BurQ8ck"
      },
      "outputs": [],
      "source": [
        "tuner = keras_tuner.RandomSearch(\n",
        "    objective=keras_tuner.Objective(\"my_metric\", \"min\"),\n",
        "    max_trials=2,\n",
        "    hypermodel=MyHyperModel(),\n",
        "    directory=\"results\",\n",
        "    project_name=\"custom_training\",\n",
        "    overwrite=True,\n",
        ")\n"
      ]
    },
    {
      "cell_type": "markdown",
      "metadata": {
        "id": "G2VEUCEEQ8cl"
      },
      "source": [
        "We start the search by passing the arguments we defined in the signature of\n",
        "`MyHyperModel.fit()` to `tuner.search()`."
      ]
    },
    {
      "cell_type": "code",
      "execution_count": 23,
      "metadata": {
        "id": "r-Cjy0s7Q8cm",
        "outputId": "132caf58-ab73-4c36-8c25-a6c461e527be",
        "colab": {
          "base_uri": "https://localhost:8080/"
        }
      },
      "outputs": [
        {
          "output_type": "stream",
          "name": "stdout",
          "text": [
            "Trial 2 Complete [00h 00m 06s]\n",
            "\n",
            "Best my_metric So Far: None\n",
            "Total elapsed time: 00h 00m 13s\n"
          ]
        }
      ],
      "source": [
        "stop_early = tf.keras.callbacks.EarlyStopping(monitor='my_metric', patience=1, mode=\"min\")\n",
        "# lrdecay = tf.keras.callbacks.ReduceLROnPlateau(monitor='my_metric', factor=0.9, patience=1, verbose=1)\n",
        "\n",
        "tuner.search(x=x_train, y=y_train, validation_data=(x_val, y_val), callbacks = [stop_early, lrdecay], epochs = 20)"
      ]
    },
    {
      "cell_type": "markdown",
      "metadata": {
        "id": "3VK_3tfLQ8cn"
      },
      "source": [
        "Finally, we can retrieve the results."
      ]
    },
    {
      "cell_type": "code",
      "execution_count": 17,
      "metadata": {
        "id": "GZgUPvZBQ8cn",
        "outputId": "833ae8a6-883d-4b83-ec69-c6ff81d257bc",
        "colab": {
          "base_uri": "https://localhost:8080/",
          "height": 275
        }
      },
      "outputs": [
        {
          "output_type": "stream",
          "name": "stdout",
          "text": [
            "{'units': 64, 'batch_size': 64, 'learning_rate': 0.001}\n"
          ]
        },
        {
          "output_type": "display_data",
          "data": {
            "text/plain": [
              "\u001b[1mModel: \"functional\"\u001b[0m\n"
            ],
            "text/html": [
              "<pre style=\"white-space:pre;overflow-x:auto;line-height:normal;font-family:Menlo,'DejaVu Sans Mono',consolas,'Courier New',monospace\"><span style=\"font-weight: bold\">Model: \"functional\"</span>\n",
              "</pre>\n"
            ]
          },
          "metadata": {}
        },
        {
          "output_type": "display_data",
          "data": {
            "text/plain": [
              "┏━━━━━━━━━━━━━━━━━━━━━━━━━━━━━━━━━━━━━━┳━━━━━━━━━━━━━━━━━━━━━━━━━━━━━┳━━━━━━━━━━━━━━━━━┓\n",
              "┃\u001b[1m \u001b[0m\u001b[1mLayer (type)                        \u001b[0m\u001b[1m \u001b[0m┃\u001b[1m \u001b[0m\u001b[1mOutput Shape               \u001b[0m\u001b[1m \u001b[0m┃\u001b[1m \u001b[0m\u001b[1m        Param #\u001b[0m\u001b[1m \u001b[0m┃\n",
              "┡━━━━━━━━━━━━━━━━━━━━━━━━━━━━━━━━━━━━━━╇━━━━━━━━━━━━━━━━━━━━━━━━━━━━━╇━━━━━━━━━━━━━━━━━┩\n",
              "│ input_layer (\u001b[38;5;33mInputLayer\u001b[0m)             │ (\u001b[38;5;45mNone\u001b[0m, \u001b[38;5;34m28\u001b[0m, \u001b[38;5;34m28\u001b[0m, \u001b[38;5;34m1\u001b[0m)           │               \u001b[38;5;34m0\u001b[0m │\n",
              "├──────────────────────────────────────┼─────────────────────────────┼─────────────────┤\n",
              "│ flatten (\u001b[38;5;33mFlatten\u001b[0m)                    │ (\u001b[38;5;45mNone\u001b[0m, \u001b[38;5;34m784\u001b[0m)                 │               \u001b[38;5;34m0\u001b[0m │\n",
              "├──────────────────────────────────────┼─────────────────────────────┼─────────────────┤\n",
              "│ dense (\u001b[38;5;33mDense\u001b[0m)                        │ (\u001b[38;5;45mNone\u001b[0m, \u001b[38;5;34m64\u001b[0m)                  │          \u001b[38;5;34m50,240\u001b[0m │\n",
              "├──────────────────────────────────────┼─────────────────────────────┼─────────────────┤\n",
              "│ dense_1 (\u001b[38;5;33mDense\u001b[0m)                      │ (\u001b[38;5;45mNone\u001b[0m, \u001b[38;5;34m10\u001b[0m)                  │             \u001b[38;5;34m650\u001b[0m │\n",
              "└──────────────────────────────────────┴─────────────────────────────┴─────────────────┘\n"
            ],
            "text/html": [
              "<pre style=\"white-space:pre;overflow-x:auto;line-height:normal;font-family:Menlo,'DejaVu Sans Mono',consolas,'Courier New',monospace\">┏━━━━━━━━━━━━━━━━━━━━━━━━━━━━━━━━━━━━━━┳━━━━━━━━━━━━━━━━━━━━━━━━━━━━━┳━━━━━━━━━━━━━━━━━┓\n",
              "┃<span style=\"font-weight: bold\"> Layer (type)                         </span>┃<span style=\"font-weight: bold\"> Output Shape                </span>┃<span style=\"font-weight: bold\">         Param # </span>┃\n",
              "┡━━━━━━━━━━━━━━━━━━━━━━━━━━━━━━━━━━━━━━╇━━━━━━━━━━━━━━━━━━━━━━━━━━━━━╇━━━━━━━━━━━━━━━━━┩\n",
              "│ input_layer (<span style=\"color: #0087ff; text-decoration-color: #0087ff\">InputLayer</span>)             │ (<span style=\"color: #00d7ff; text-decoration-color: #00d7ff\">None</span>, <span style=\"color: #00af00; text-decoration-color: #00af00\">28</span>, <span style=\"color: #00af00; text-decoration-color: #00af00\">28</span>, <span style=\"color: #00af00; text-decoration-color: #00af00\">1</span>)           │               <span style=\"color: #00af00; text-decoration-color: #00af00\">0</span> │\n",
              "├──────────────────────────────────────┼─────────────────────────────┼─────────────────┤\n",
              "│ flatten (<span style=\"color: #0087ff; text-decoration-color: #0087ff\">Flatten</span>)                    │ (<span style=\"color: #00d7ff; text-decoration-color: #00d7ff\">None</span>, <span style=\"color: #00af00; text-decoration-color: #00af00\">784</span>)                 │               <span style=\"color: #00af00; text-decoration-color: #00af00\">0</span> │\n",
              "├──────────────────────────────────────┼─────────────────────────────┼─────────────────┤\n",
              "│ dense (<span style=\"color: #0087ff; text-decoration-color: #0087ff\">Dense</span>)                        │ (<span style=\"color: #00d7ff; text-decoration-color: #00d7ff\">None</span>, <span style=\"color: #00af00; text-decoration-color: #00af00\">64</span>)                  │          <span style=\"color: #00af00; text-decoration-color: #00af00\">50,240</span> │\n",
              "├──────────────────────────────────────┼─────────────────────────────┼─────────────────┤\n",
              "│ dense_1 (<span style=\"color: #0087ff; text-decoration-color: #0087ff\">Dense</span>)                      │ (<span style=\"color: #00d7ff; text-decoration-color: #00d7ff\">None</span>, <span style=\"color: #00af00; text-decoration-color: #00af00\">10</span>)                  │             <span style=\"color: #00af00; text-decoration-color: #00af00\">650</span> │\n",
              "└──────────────────────────────────────┴─────────────────────────────┴─────────────────┘\n",
              "</pre>\n"
            ]
          },
          "metadata": {}
        },
        {
          "output_type": "display_data",
          "data": {
            "text/plain": [
              "\u001b[1m Total params: \u001b[0m\u001b[38;5;34m50,890\u001b[0m (198.79 KB)\n"
            ],
            "text/html": [
              "<pre style=\"white-space:pre;overflow-x:auto;line-height:normal;font-family:Menlo,'DejaVu Sans Mono',consolas,'Courier New',monospace\"><span style=\"font-weight: bold\"> Total params: </span><span style=\"color: #00af00; text-decoration-color: #00af00\">50,890</span> (198.79 KB)\n",
              "</pre>\n"
            ]
          },
          "metadata": {}
        },
        {
          "output_type": "display_data",
          "data": {
            "text/plain": [
              "\u001b[1m Trainable params: \u001b[0m\u001b[38;5;34m50,890\u001b[0m (198.79 KB)\n"
            ],
            "text/html": [
              "<pre style=\"white-space:pre;overflow-x:auto;line-height:normal;font-family:Menlo,'DejaVu Sans Mono',consolas,'Courier New',monospace\"><span style=\"font-weight: bold\"> Trainable params: </span><span style=\"color: #00af00; text-decoration-color: #00af00\">50,890</span> (198.79 KB)\n",
              "</pre>\n"
            ]
          },
          "metadata": {}
        },
        {
          "output_type": "display_data",
          "data": {
            "text/plain": [
              "\u001b[1m Non-trainable params: \u001b[0m\u001b[38;5;34m0\u001b[0m (0.00 B)\n"
            ],
            "text/html": [
              "<pre style=\"white-space:pre;overflow-x:auto;line-height:normal;font-family:Menlo,'DejaVu Sans Mono',consolas,'Courier New',monospace\"><span style=\"font-weight: bold\"> Non-trainable params: </span><span style=\"color: #00af00; text-decoration-color: #00af00\">0</span> (0.00 B)\n",
              "</pre>\n"
            ]
          },
          "metadata": {}
        }
      ],
      "source": [
        "best_hps = tuner.get_best_hyperparameters()[0]\n",
        "print(best_hps.values)\n",
        "\n",
        "best_model = tuner.get_best_models()[0]\n",
        "best_model.summary()"
      ]
    },
    {
      "cell_type": "markdown",
      "metadata": {
        "id": "mbEsxOwHQ8co"
      },
      "source": [
        "In summary, to tune the hyperparameters in your custom training loop, you just\n",
        "override `HyperModel.fit()` to train the model and return the evaluation\n",
        "results. With the provided callbacks, you can easily save the trained models at\n",
        "their best epochs and load the best models later.\n",
        "\n",
        "To find out more about the basics of KerasTuner, please see\n",
        "[Getting Started with KerasTuner](https://keras.io/guides/keras_tuner/getting_started/)."
      ]
    }
  ],
  "metadata": {
    "accelerator": "GPU",
    "colab": {
      "name": "custom_tuner",
      "provenance": [],
      "toc_visible": true
    },
    "kernelspec": {
      "display_name": "Python 3",
      "language": "python",
      "name": "python3"
    },
    "language_info": {
      "codemirror_mode": {
        "name": "ipython",
        "version": 3
      },
      "file_extension": ".py",
      "mimetype": "text/x-python",
      "name": "python",
      "nbconvert_exporter": "python",
      "pygments_lexer": "ipython3",
      "version": "3.7.0"
    }
  },
  "nbformat": 4,
  "nbformat_minor": 0
}